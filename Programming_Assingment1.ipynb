{
 "cells": [
  {
   "cell_type": "markdown",
   "id": "f84391a0",
   "metadata": {},
   "source": [
    " #                                     Programming Assignment 1"
   ]
  },
  {
   "cell_type": "markdown",
   "id": "186ff076",
   "metadata": {},
   "source": [
    "# 1. Write a Python program to print \"Hello Python\"?"
   ]
  },
  {
   "cell_type": "code",
   "execution_count": 1,
   "id": "f5ca5389",
   "metadata": {},
   "outputs": [
    {
     "name": "stdout",
     "output_type": "stream",
     "text": [
      "Hello Python\n"
     ]
    }
   ],
   "source": [
    "print(\"Hello Python\")"
   ]
  },
  {
   "cell_type": "markdown",
   "id": "cc8d26f8",
   "metadata": {},
   "source": [
    "# 2. Write a Python program to do arithmetical operations addition and division.?"
   ]
  },
  {
   "cell_type": "code",
   "execution_count": 8,
   "id": "62b1e62a",
   "metadata": {},
   "outputs": [
    {
     "name": "stdout",
     "output_type": "stream",
     "text": [
      "Enter first number:- 10\n",
      "Enter second number:- 15\n",
      "addition of a and b is 25 and division of a and b 0.6666666666666666\n"
     ]
    }
   ],
   "source": [
    "a= int(input(\"Enter first number:- \"));\n",
    "b= int(input(\"Enter second number:- \"));\n",
    "addition= a+b;\n",
    "division = a/b;\n",
    "print(\"addition of a and b is {} and division of a and b {}\".format(addition,division));"
   ]
  },
  {
   "cell_type": "markdown",
   "id": "3bba57f6",
   "metadata": {},
   "source": [
    "# 3. Write a Python program to find the area of a triangle?"
   ]
  },
  {
   "cell_type": "code",
   "execution_count": 9,
   "id": "7240bbb7",
   "metadata": {},
   "outputs": [
    {
     "name": "stdout",
     "output_type": "stream",
     "text": [
      "Enter base of triangle:- 10\n",
      "Enter height of triangle:- 15\n",
      "Area of Trianlge is 75.0\n"
     ]
    }
   ],
   "source": [
    "base = int(input(\"Enter base of triangle:- \"));\n",
    "height = int(input(\"Enter height of triangle:- \"));\n",
    "area = (1/2)*base*height;\n",
    "print(\"Area of Trianlge is {}\".format(area));"
   ]
  },
  {
   "cell_type": "markdown",
   "id": "d33ae2b2",
   "metadata": {},
   "source": [
    "# 4. Write a Python program to swap two variables?"
   ]
  },
  {
   "cell_type": "code",
   "execution_count": 10,
   "id": "7489cf68",
   "metadata": {},
   "outputs": [
    {
     "name": "stdout",
     "output_type": "stream",
     "text": [
      "Enter first number20\n",
      "Enter second number10\n",
      "first number:-  10\n",
      "Second number:- 20\n"
     ]
    }
   ],
   "source": [
    "n1 = int(input(\"Enter first number:- \"));\n",
    "n2 = int(input(\"Enter second number:- \"));\n",
    "temp = n1;\n",
    "n1=n2;\n",
    "n2=temp;\n",
    "print(\"first number:-  {}\".format(n1))\n",
    "print(\"Second number:- {}\".format(n2))"
   ]
  },
  {
   "cell_type": "markdown",
   "id": "8645a20c",
   "metadata": {},
   "source": [
    "# 5.Write a Python program to generate a random number?"
   ]
  },
  {
   "cell_type": "code",
   "execution_count": 14,
   "id": "02d05d47",
   "metadata": {},
   "outputs": [
    {
     "name": "stdout",
     "output_type": "stream",
     "text": [
      "9\n"
     ]
    }
   ],
   "source": [
    "import random\n",
    "a= random.randint(0,10)\n",
    "print(a);"
   ]
  }
 ],
 "metadata": {
  "kernelspec": {
   "display_name": "Python 3 (ipykernel)",
   "language": "python",
   "name": "python3"
  },
  "language_info": {
   "codemirror_mode": {
    "name": "ipython",
    "version": 3
   },
   "file_extension": ".py",
   "mimetype": "text/x-python",
   "name": "python",
   "nbconvert_exporter": "python",
   "pygments_lexer": "ipython3",
   "version": "3.9.7"
  }
 },
 "nbformat": 4,
 "nbformat_minor": 5
}
