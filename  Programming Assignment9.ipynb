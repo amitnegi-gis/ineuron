{
 "cells": [
  {
   "cell_type": "markdown",
   "id": "8c8a5f71",
   "metadata": {},
   "source": [
    "# Programming Assignment_9"
   ]
  },
  {
   "cell_type": "markdown",
   "id": "0117dd2b",
   "metadata": {},
   "source": [
    "# 1. Write a Python program to check if the given number is a Disarium Number?"
   ]
  },
  {
   "cell_type": "code",
   "execution_count": 1,
   "id": "a8cc783d",
   "metadata": {},
   "outputs": [
    {
     "name": "stdout",
     "output_type": "stream",
     "text": [
      "Enter a number:-->12\n",
      "the given number is not a Disarium Number\n"
     ]
    }
   ],
   "source": [
    "n = input(\"Enter a number:-->\")\n",
    "count = len(n)\n",
    "num = int(n)\n",
    "disarum = 0\n",
    "temp = num\n",
    "while num>0 and count>0:\n",
    "    rem=num%10\n",
    "    disarum = disarum +  (rem**count)\n",
    "    num=int(num/10)\n",
    "    count = count-1\n",
    "if temp == disarum:\n",
    "    print(\"the given number is a Disarium Number\")\n",
    "else:\n",
    "    print(\"the given number is not a Disarium Number\")"
   ]
  },
  {
   "cell_type": "markdown",
   "id": "ed1ceefe",
   "metadata": {},
   "source": [
    "# Write a Python program to print all disarium numbers between 1 to 100?"
   ]
  },
  {
   "cell_type": "code",
   "execution_count": 2,
   "id": "25b49b56",
   "metadata": {},
   "outputs": [
    {
     "name": "stdout",
     "output_type": "stream",
     "text": [
      "Disarium numbers between 1 and 100 are 1\n",
      "Disarium numbers between 1 and 100 are 2\n",
      "Disarium numbers between 1 and 100 are 3\n",
      "Disarium numbers between 1 and 100 are 4\n",
      "Disarium numbers between 1 and 100 are 5\n",
      "Disarium numbers between 1 and 100 are 6\n",
      "Disarium numbers between 1 and 100 are 7\n",
      "Disarium numbers between 1 and 100 are 8\n",
      "Disarium numbers between 1 and 100 are 9\n",
      "Disarium numbers between 1 and 100 are 89\n"
     ]
    }
   ],
   "source": [
    "for num in range(1,100):\n",
    "    count = len(str(num))\n",
    "    disarum = 0\n",
    "    temp = num\n",
    "    while(num>0 and count>0):\n",
    "        rem=num%10\n",
    "        disarum = disarum +  (rem**count)\n",
    "        num=int(num/10)\n",
    "        count = count-1\n",
    "    if temp == disarum:\n",
    "        print(\"Disarium numbers between 1 and 100 are\",temp)"
   ]
  },
  {
   "cell_type": "markdown",
   "id": "df697638",
   "metadata": {},
   "source": [
    "# 3.Write a Python program to check if the given number is Happy Number?"
   ]
  },
  {
   "cell_type": "code",
   "execution_count": 5,
   "id": "71b3fb40",
   "metadata": {},
   "outputs": [
    {
     "name": "stdout",
     "output_type": "stream",
     "text": [
      "Enter a number:-->130\n",
      "130 is happy number:\n"
     ]
    }
   ],
   "source": [
    "def ishappy(n):\n",
    "    sumofdig=0\n",
    "    rem=0\n",
    "    while n>0:\n",
    "        rem =n%10\n",
    "        sumofdig= sumofdig+rem*rem\n",
    "        n=n//10\n",
    "    return sumofdig\n",
    "        \n",
    "n = int(input(\"Enter a number:-->\"))\n",
    "result = n\n",
    "while result!=1 and result!=4:\n",
    "    result = ishappy(result)\n",
    "if result==1:\n",
    "    print(n,\"is happy number:\")\n",
    "else:\n",
    "    print(n,\"is not a happy number:\")"
   ]
  },
  {
   "cell_type": "markdown",
   "id": "828d9db1",
   "metadata": {},
   "source": [
    "# 4.Write a Python program to print all happy numbers between 1 and 100?"
   ]
  },
  {
   "cell_type": "code",
   "execution_count": 6,
   "id": "ea0ed548",
   "metadata": {},
   "outputs": [
    {
     "name": "stdout",
     "output_type": "stream",
     "text": [
      "1 is happy number:\n",
      "7 is happy number:\n",
      "10 is happy number:\n",
      "13 is happy number:\n",
      "19 is happy number:\n",
      "23 is happy number:\n",
      "28 is happy number:\n",
      "31 is happy number:\n",
      "32 is happy number:\n",
      "44 is happy number:\n",
      "49 is happy number:\n",
      "68 is happy number:\n",
      "70 is happy number:\n",
      "79 is happy number:\n",
      "82 is happy number:\n",
      "86 is happy number:\n",
      "91 is happy number:\n",
      "94 is happy number:\n",
      "97 is happy number:\n"
     ]
    }
   ],
   "source": [
    "def ishappy(n):\n",
    "    sumofdig=0\n",
    "    rem=0\n",
    "    while n>0:\n",
    "        rem =n%10\n",
    "        sumofdig= sumofdig+rem*rem\n",
    "        n=n//10\n",
    "    return sumofdig\n",
    "        \n",
    "for i in range(1,100):\n",
    "    result = i\n",
    "    while result!=1 and result!=4:\n",
    "        result = ishappy(result)\n",
    "    if result==1:\n",
    "        print(i,\"is happy number:\")"
   ]
  },
  {
   "cell_type": "markdown",
   "id": "6ea49b9f",
   "metadata": {},
   "source": [
    "# 5. Write a Python program to determine whether the given number is a Harshad Number?"
   ]
  },
  {
   "cell_type": "code",
   "execution_count": 7,
   "id": "0969e97a",
   "metadata": {},
   "outputs": [
    {
     "name": "stdout",
     "output_type": "stream",
     "text": [
      "enter a Number:- 17\n",
      "17 is not a Harshad Number\n"
     ]
    }
   ],
   "source": [
    "n=int(input(\"enter a Number:- \"))\n",
    "result=n\n",
    "sumofdig=0\n",
    "while n>0:\n",
    "    rem=n%10\n",
    "    sumofdig=sumofdig+rem\n",
    "    n=n//10\n",
    "if(result%sumofdig==0):\n",
    "    print(result,\"is a Harshad Number\")\n",
    "else:\n",
    "    print(result,\"is not a Harshad Number\")"
   ]
  },
  {
   "cell_type": "markdown",
   "id": "ef2484c0",
   "metadata": {},
   "source": [
    "# 6.Write a Python program to print all pronic numbers between 1 and 100?"
   ]
  },
  {
   "cell_type": "code",
   "execution_count": null,
   "id": "835f2a95",
   "metadata": {},
   "outputs": [],
   "source": [
    "for i in range(1,100):\n",
    "    num=i\n",
    "    for j in range(1, i+1):        \n",
    "        if((j*(j+1)) == num):\n",
    "            print(num,\"is a Pronic numbers\");    \n"
   ]
  }
 ],
 "metadata": {
  "kernelspec": {
   "display_name": "Python 3 (ipykernel)",
   "language": "python",
   "name": "python3"
  },
  "language_info": {
   "codemirror_mode": {
    "name": "ipython",
    "version": 3
   },
   "file_extension": ".py",
   "mimetype": "text/x-python",
   "name": "python",
   "nbconvert_exporter": "python",
   "pygments_lexer": "ipython3",
   "version": "3.9.7"
  }
 },
 "nbformat": 4,
 "nbformat_minor": 5
}
