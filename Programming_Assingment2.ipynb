{
 "cells": [
  {
   "cell_type": "markdown",
   "id": "2a72f470",
   "metadata": {},
   "source": [
    "# Programming_Assingment2"
   ]
  },
  {
   "cell_type": "markdown",
   "id": "27ff5350",
   "metadata": {},
   "source": [
    "## 1. \tWrite a Python program to convert kilometers to miles?"
   ]
  },
  {
   "cell_type": "code",
   "execution_count": 11,
   "id": "bb2b301a",
   "metadata": {},
   "outputs": [
    {
     "name": "stdout",
     "output_type": "stream",
     "text": [
      "Enter a kilometer:- 1\n",
      "1 kilometer is equal to 0.6213712 miles\n"
     ]
    }
   ],
   "source": [
    "km = int(input(\"Enter a kilometer:- \"));\n",
    "miles = km* 0.6213712;\n",
    "print(\"{} kilometer is equal to {} miles\".format(km,miles));"
   ]
  },
  {
   "cell_type": "markdown",
   "id": "14b64a27",
   "metadata": {},
   "source": [
    "## 2.\tWrite a Python program to convert Celsius to Fahrenheit?"
   ]
  },
  {
   "cell_type": "code",
   "execution_count": 1,
   "id": "be268809",
   "metadata": {},
   "outputs": [
    {
     "name": "stdout",
     "output_type": "stream",
     "text": [
      "enter a Celcius: - 32\n",
      "32 celcius is equal to 89.6 fahrenheit\n"
     ]
    }
   ],
   "source": [
    "celcius = int(input(\"enter a Celcius: - \"))\n",
    "fahrenheit = ((9/5*celcius)+32);\n",
    "print(\"{} celcius is equal to {} fahrenheit\".format(celcius,fahrenheit));"
   ]
  },
  {
   "cell_type": "markdown",
   "id": "59e8e138",
   "metadata": {},
   "source": [
    "## 3.\tWrite a Python program to display calendar?"
   ]
  },
  {
   "cell_type": "code",
   "execution_count": 24,
   "id": "6651e1cb",
   "metadata": {},
   "outputs": [
    {
     "name": "stdout",
     "output_type": "stream",
     "text": [
      "Enter year: 2022\n",
      "Enter month: 5\n",
      "      May 2022\n",
      "Mo Tu We Th Fr Sa Su\n",
      "                   1\n",
      " 2  3  4  5  6  7  8\n",
      " 9 10 11 12 13 14 15\n",
      "16 17 18 19 20 21 22\n",
      "23 24 25 26 27 28 29\n",
      "30 31\n",
      "\n"
     ]
    }
   ],
   "source": [
    "import calendar\n",
    "\n",
    "\n",
    "# To take month and year input from the user\n",
    "yy = int(input(\"Enter year: \"))\n",
    "mm = int(input(\"Enter month: \"))\n",
    "\n",
    "# display the calendar\n",
    "print(calendar.month(yy, mm))\n"
   ]
  },
  {
   "cell_type": "markdown",
   "id": "fa0c8398",
   "metadata": {},
   "source": [
    "## 4.\tWrite a Python program to solve quadratic equation?\n",
    "# y=ax<sup>2</sup>+bx+c"
   ]
  },
  {
   "cell_type": "code",
   "execution_count": 42,
   "id": "e53eee7e",
   "metadata": {},
   "outputs": [
    {
     "name": "stdout",
     "output_type": "stream",
     "text": [
      "Enter a number:- 1\n",
      "Enter a number:- 12\n",
      "Enter a number:- 10\n"
     ]
    }
   ],
   "source": [
    "import cmath\n",
    "a= int(input(\"Enter a number:- \"));\n",
    "b= int(input(\"Enter a number:- \"));\n",
    "c= int(input(\"Enter a number:- \"));\n",
    "\n"
   ]
  },
  {
   "cell_type": "code",
   "execution_count": 43,
   "id": "5473557d",
   "metadata": {},
   "outputs": [
    {
     "name": "stdout",
     "output_type": "stream",
     "text": [
      " real and different roots \n",
      "-0.9009804864072155\n",
      "-11.099019513592784\n"
     ]
    }
   ],
   "source": [
    "d = b * b - 4 * a * c\n",
    "dtr = math.sqrt(abs(d)) \n",
    "      \n",
    "if d > 0: \n",
    "        print(\" real and different roots \") \n",
    "        print((-b + dtr)/(2 * a)) \n",
    "        print((-b - dtr)/(2 * a)) \n",
    "elif d == 0: \n",
    "        print(\" real and same roots\") \n",
    "        print(-b / (2 * a)) \n",
    "else:\n",
    "        print(\"Complex Roots\") \n",
    "        print(- b / (2 * a), \" + i\") \n",
    "        print(- b / (2 * a), \" - i\") "
   ]
  },
  {
   "cell_type": "markdown",
   "id": "08f31b1f",
   "metadata": {},
   "source": [
    "## 5.\tWrite a Python program to swap two variables without temp variable?"
   ]
  },
  {
   "cell_type": "code",
   "execution_count": 48,
   "id": "dc811a52",
   "metadata": {},
   "outputs": [
    {
     "name": "stdout",
     "output_type": "stream",
     "text": [
      "Enter the first number:- 10\n",
      "Enter the second number:- 12\n",
      "First Number is 12\n",
      "Second Number is 10\n"
     ]
    }
   ],
   "source": [
    "n1 = int(input(\"Enter the first number:- \"));\n",
    "n2=  int(input(\"Enter the second number:- \"))\n",
    "n1=n1+n2;\n",
    "n2=n1-n2\n",
    "n1=n1-n2;\n",
    "#After Swaping\n",
    "print(\"First Number is {}\".format(n1));\n",
    "print(\"Second Number is {}\".format(n2));"
   ]
  }
 ],
 "metadata": {
  "kernelspec": {
   "display_name": "Python 3 (ipykernel)",
   "language": "python",
   "name": "python3"
  },
  "language_info": {
   "codemirror_mode": {
    "name": "ipython",
    "version": 3
   },
   "file_extension": ".py",
   "mimetype": "text/x-python",
   "name": "python",
   "nbconvert_exporter": "python",
   "pygments_lexer": "ipython3",
   "version": "3.9.7"
  }
 },
 "nbformat": 4,
 "nbformat_minor": 5
}
