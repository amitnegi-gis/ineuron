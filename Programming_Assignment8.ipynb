{
 "cells": [
  {
   "cell_type": "markdown",
   "id": "006caf56",
   "metadata": {},
   "source": [
    "# Programming_Assignment8"
   ]
  },
  {
   "cell_type": "markdown",
   "id": "96aae345",
   "metadata": {},
   "source": [
    "# 1. Write a Python Program to Add Two Matrices?"
   ]
  },
  {
   "cell_type": "code",
   "execution_count": 1,
   "id": "2defdf46",
   "metadata": {},
   "outputs": [
    {
     "name": "stdout",
     "output_type": "stream",
     "text": [
      "[10, 10, 10]\n",
      "[10, 10, 10]\n",
      "[10, 10, 10]\n"
     ]
    }
   ],
   "source": [
    "mat1 = [[1,2,3],\n",
    "        [4,5,6,],\n",
    "        [7,8,9]]\n",
    "mat2 = [[9,8,7],\n",
    "        [6,5,4,],\n",
    "        [3,2,1]]\n",
    "result = [[0,0,0],\n",
    "          [0,0,0],\n",
    "          [0,0,0]]\n",
    "for i in range(len(mat1)):\n",
    "    for j in range(len(mat1[0])):\n",
    "        result[i][j] = mat1[i][j]+mat2[i][j]\n",
    "for k in result:\n",
    "    print(k)       "
   ]
  },
  {
   "cell_type": "markdown",
   "id": "1d1db254",
   "metadata": {},
   "source": [
    "# 2.Write a Python Program to Multiply Two Matrices?"
   ]
  },
  {
   "cell_type": "code",
   "execution_count": 4,
   "id": "eac3ab63",
   "metadata": {},
   "outputs": [
    {
     "name": "stdout",
     "output_type": "stream",
     "text": [
      "[9, 6, 3, 15]\n",
      "[18, 12, 6, 30]\n",
      "[27, 18, 9, 45]\n"
     ]
    }
   ],
   "source": [
    "mat1 = [[1,2,3],\n",
    "        [4,5,6,],\n",
    "        [7,8,9]]\n",
    "mat2 = [[9,8,7,4],\n",
    "        [6,5,4,3],\n",
    "        [3,2,1,5]]\n",
    "result = [[0,0,0,0],\n",
    "          [0,0,0,0],\n",
    "          [0,0,0,0]]\n",
    "for i in range(len(mat1)):\n",
    "    for j in range(len(mat2[0])):\n",
    "        for k in range(len(mat2)):\n",
    "            result[i][j] = mat1[i][k]*mat2[k][j]\n",
    "for k in result:\n",
    "    print(k) "
   ]
  },
  {
   "cell_type": "markdown",
   "id": "1c0e9475",
   "metadata": {},
   "source": [
    "# 3. Write a Python Program to Transpose a Matrix?"
   ]
  },
  {
   "cell_type": "code",
   "execution_count": 5,
   "id": "d883d41e",
   "metadata": {},
   "outputs": [
    {
     "name": "stdout",
     "output_type": "stream",
     "text": [
      "input matrix is [[1, 2, 3], [4, 5, 6], [7, 8, 9]]\n",
      "[1, 4, 7]\n",
      "[2, 5, 8]\n",
      "[3, 6, 9]\n"
     ]
    }
   ],
   "source": [
    "x=[[1,2,3],[4,5,6],[7,8,9]]\n",
    "print(\"input matrix is\",x )\n",
    "transpose = [[0,0,0],[0,0,0],[0,0,0]]\n",
    "for i in range(len(x)):\n",
    "    for j in range(len(x[0])):\n",
    "        transpose[j][i] = x[i][j]\n",
    "for j in transpose:\n",
    "    print(j)\n",
    "                   \n",
    "                   "
   ]
  },
  {
   "cell_type": "markdown",
   "id": "7adeb2d5",
   "metadata": {},
   "source": [
    "# 4.Write a Python Program to Sort Words in Alphabetic Order?"
   ]
  },
  {
   "cell_type": "code",
   "execution_count": 6,
   "id": "66b141cc",
   "metadata": {},
   "outputs": [
    {
     "name": "stdout",
     "output_type": "stream",
     "text": [
      "assignment\n",
      "data\n",
      "full\n",
      "hello\n",
      "ineuron\n",
      "is\n",
      "of\n",
      "of\n",
      "program\n",
      "program\n",
      "python\n",
      "science\n",
      "stack\n",
      "this\n"
     ]
    }
   ],
   "source": [
    "string = \"Hello this is program of python assignment of ineuron full stack data science program\"\n",
    "splwr = string.lower()\n",
    "splt=  splwr.split()\n",
    "splt.sort()\n",
    "splt\n",
    "for word in splt:\n",
    "    print(word)"
   ]
  },
  {
   "cell_type": "markdown",
   "id": "dd5adfc4",
   "metadata": {},
   "source": [
    "# 5.Write a Python Program to Remove Punctuation From a String?"
   ]
  },
  {
   "cell_type": "code",
   "execution_count": 7,
   "id": "2fe0d52e",
   "metadata": {},
   "outputs": [
    {
     "name": "stdout",
     "output_type": "stream",
     "text": [
      " heelllllllo this is amit from uttarakhand\n"
     ]
    }
   ],
   "source": [
    "punctuations = '''!()-[]{};:'\"\\,<>./?@#$%^&*_~'''\n",
    "string = \"heelllllllo@@@@@ this is amit from uttarakhand/.;][\"\n",
    "sting=\" \"\n",
    "for char in string:\n",
    "    if char not in punctuations:\n",
    "        sting +=  char\n",
    "print(sting)"
   ]
  }
 ],
 "metadata": {
  "kernelspec": {
   "display_name": "Python 3 (ipykernel)",
   "language": "python",
   "name": "python3"
  },
  "language_info": {
   "codemirror_mode": {
    "name": "ipython",
    "version": 3
   },
   "file_extension": ".py",
   "mimetype": "text/x-python",
   "name": "python",
   "nbconvert_exporter": "python",
   "pygments_lexer": "ipython3",
   "version": "3.9.7"
  }
 },
 "nbformat": 4,
 "nbformat_minor": 5
}
