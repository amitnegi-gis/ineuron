{
 "cells": [
  {
   "cell_type": "markdown",
   "id": "feb1bc3b",
   "metadata": {},
   "source": [
    "# Programming_Assingment7"
   ]
  },
  {
   "cell_type": "markdown",
   "id": "a52a05f4",
   "metadata": {},
   "source": [
    "# 1.\tWrite a Python Program to find sum of array?"
   ]
  },
  {
   "cell_type": "code",
   "execution_count": null,
   "id": "1bc838f2",
   "metadata": {},
   "outputs": [],
   "source": [
    "l=[23,25,26,91,27]\n",
    "sumofar = 0\n",
    "for i in range(len(l)):\n",
    "    sumofar = sumofar+l[i];\n",
    "print(sumofar)\n"
   ]
  },
  {
   "cell_type": "markdown",
   "id": "48548db2",
   "metadata": {},
   "source": [
    "# 2.\tWrite a Python Program to find largest element in an array?"
   ]
  },
  {
   "cell_type": "code",
   "execution_count": null,
   "id": "60c273d5",
   "metadata": {},
   "outputs": [],
   "source": [
    "l=[35,102,125,26,27]\n",
    "maxofar = 0\n",
    "for i in range(len(l)):\n",
    "    if(l[i]>maxofar):\n",
    "        maxofar=l[i]\n",
    "print(maxofar)\n"
   ]
  },
  {
   "cell_type": "markdown",
   "id": "7ce4f366",
   "metadata": {},
   "source": [
    "# 3.\tWrite a Python Program for array rotation?"
   ]
  },
  {
   "cell_type": "code",
   "execution_count": null,
   "id": "c78539a4",
   "metadata": {},
   "outputs": [],
   "source": [
    "def roationarr(arr,k,n):\n",
    "    k = k%n\n",
    "    if(k<0):\n",
    "        k=k+n;\n",
    "    for i in range(k):\n",
    "        temp = arr[n-1]\n",
    "        for j in reversed(range(n-1)):\n",
    "            arr[j+1] = arr[j]\n",
    "        arr[0]=temp\n",
    "    return arr\n",
    "    \n",
    "    \n",
    "arr=[]\n",
    "n= int(input(\"Size of array:- \"))\n",
    "for i in range(1,n+1):\n",
    "    val=int(input('enter a num in list index '+ str(i) +\" \"))\n",
    "    arr.append(val)\n",
    "k= int(input(\"enter a number\"))\n",
    "num= len(arr)\n",
    "roationarr(arr,k,num)\n",
    "for i in range(n):\n",
    "    print(arr[i],end=' ')"
   ]
  },
  {
   "cell_type": "markdown",
   "id": "9b99fe6f",
   "metadata": {},
   "source": [
    "# 4.\tWrite a Python Program to Split the array and add the first part to the end?"
   ]
  },
  {
   "cell_type": "code",
   "execution_count": null,
   "id": "03bdb6c0",
   "metadata": {},
   "outputs": [],
   "source": [
    "arr = [12,5,8,9,15,16]\n",
    "k = int(input(\"enter a number\"));\n",
    "n=len(arr)\n",
    "for i in range(0, k):\n",
    "    x = arr[0]\n",
    "    for j in range(0, n-1):\n",
    "        arr[j] = arr[j + 1]\n",
    "        \n",
    "    arr[n-1] = x\n",
    "for i in range(0, n):\n",
    "    print(arr[i], end = ' ')"
   ]
  },
  {
   "cell_type": "markdown",
   "id": "23ea5977",
   "metadata": {},
   "source": [
    "# 5.\tWrite a Python Program to check if given array is Monotonic?"
   ]
  },
  {
   "cell_type": "code",
   "execution_count": null,
   "id": "becdb43e",
   "metadata": {},
   "outputs": [],
   "source": [
    "def isMonotonic(arr):\n",
    "  \n",
    "    return (all(arr[i] <= arr[i + 1] for i in range(len(arr) - 1)) or\n",
    "            all(arr[i] >= arr[i + 1] for i in range(len(arr) - 1)))\n",
    "\n",
    "arr=[]\n",
    "n= int(input(\"Size of array:- \"))\n",
    "for i in range(1,n+1):\n",
    "    val=int(input('enter a num in list index '+ str(i) +\" \"))\n",
    "    arr.append(val)\n",
    "print(isMonotonic(arr))\n"
   ]
  },
  {
   "cell_type": "code",
   "execution_count": null,
   "id": "5d8340db",
   "metadata": {},
   "outputs": [],
   "source": []
  }
 ],
 "metadata": {
  "kernelspec": {
   "display_name": "Python 3 (ipykernel)",
   "language": "python",
   "name": "python3"
  },
  "language_info": {
   "codemirror_mode": {
    "name": "ipython",
    "version": 3
   },
   "file_extension": ".py",
   "mimetype": "text/x-python",
   "name": "python",
   "nbconvert_exporter": "python",
   "pygments_lexer": "ipython3",
   "version": "3.9.7"
  }
 },
 "nbformat": 4,
 "nbformat_minor": 5
}
