{
 "cells": [
  {
   "cell_type": "markdown",
   "id": "ad71424f",
   "metadata": {},
   "source": [
    "# Programming_Assignment-4"
   ]
  },
  {
   "cell_type": "markdown",
   "id": "06e23e52",
   "metadata": {},
   "source": [
    "##  1. Write a Python Program to Find the Factorial of a Number?"
   ]
  },
  {
   "cell_type": "code",
   "execution_count": 1,
   "id": "4d3a144b",
   "metadata": {},
   "outputs": [
    {
     "name": "stdout",
     "output_type": "stream",
     "text": [
      "Enter a Number10\n",
      "factorial of 10 is 3628800\n"
     ]
    }
   ],
   "source": [
    "n=int(input(\"Enter a Number\"));\n",
    "fact = 1;\n",
    "for i in range(n,0,-1):\n",
    "    fact = fact*i;\n",
    "print(\"factorial of {} is {}\".format(n,fact));"
   ]
  },
  {
   "cell_type": "markdown",
   "id": "8623cb31",
   "metadata": {},
   "source": [
    "## 2. Write a Python Program to Display the multiplication Table?"
   ]
  },
  {
   "cell_type": "code",
   "execution_count": 2,
   "id": "3de50cf1",
   "metadata": {},
   "outputs": [
    {
     "name": "stdout",
     "output_type": "stream",
     "text": [
      "enter a number:- 36\n",
      "36 * 1  = 36\n",
      "36 * 2  = 72\n",
      "36 * 3  = 108\n",
      "36 * 4  = 144\n",
      "36 * 5  = 180\n",
      "36 * 6  = 216\n",
      "36 * 7  = 252\n",
      "36 * 8  = 288\n",
      "36 * 9  = 324\n",
      "36 * 10  = 360\n"
     ]
    }
   ],
   "source": [
    "n= int(input(\"enter a number:- \"));\n",
    "\n",
    "for i in range(1,11):\n",
    "    table = n*i\n",
    "    print(\"{} * {}  = {}\".format(n,i,table))"
   ]
  },
  {
   "cell_type": "markdown",
   "id": "b948541e",
   "metadata": {},
   "source": [
    "##  3. Write a Python Program to Print the Fibonacci sequence? "
   ]
  },
  {
   "cell_type": "code",
   "execution_count": 5,
   "id": "4057354a",
   "metadata": {},
   "outputs": [
    {
     "name": "stdout",
     "output_type": "stream",
     "text": [
      "enter a number10\n",
      "1\n",
      "2\n",
      "3\n",
      "5\n",
      "8\n",
      "13\n",
      "21\n",
      "34\n",
      "55\n"
     ]
    }
   ],
   "source": [
    "n=int(input(\"enter a number\"));\n",
    "a=0;\n",
    "b=1;\n",
    "for i in range(1, n):\n",
    "            c=a+b\n",
    "            a = b\n",
    "            b = c\n",
    "            \n",
    "            print(b);\n",
    "            if(c==n):\n",
    "                break;\n"
   ]
  },
  {
   "cell_type": "markdown",
   "id": "bef94098",
   "metadata": {},
   "source": [
    "## 4. Write a Python Program to Check Armstrong Number?"
   ]
  },
  {
   "cell_type": "code",
   "execution_count": 6,
   "id": "dbcdd91a",
   "metadata": {},
   "outputs": [
    {
     "name": "stdout",
     "output_type": "stream",
     "text": [
      "Enter a number:- 407\n",
      "This is a Armstrong Number\n"
     ]
    }
   ],
   "source": [
    "n = int(input(\"Enter a number:- \"));\n",
    "num=n\n",
    "sumof =0;\n",
    "while(n>0):\n",
    "    rem = n%10;\n",
    "    sumof = sumof+(rem**3);\n",
    "    n=int(n/10);       \n",
    "if sumof==num:\n",
    "    print(\"This is a Armstrong Number\");\n",
    "else:\n",
    "    print(\"This is not a armstrong Number\");"
   ]
  },
  {
   "cell_type": "markdown",
   "id": "376cf43c",
   "metadata": {},
   "source": [
    "## 5. Write a Python Program to Find Armstrong Number in an Interval?"
   ]
  },
  {
   "cell_type": "code",
   "execution_count": 7,
   "id": "27257259",
   "metadata": {},
   "outputs": [
    {
     "name": "stdout",
     "output_type": "stream",
     "text": [
      "Enter a number:- 1000\n",
      "This is a Armstrong Number 1\n",
      "This is a Armstrong Number 153\n",
      "This is a Armstrong Number 370\n",
      "This is a Armstrong Number 371\n",
      "This is a Armstrong Number 407\n"
     ]
    }
   ],
   "source": [
    "n=int(input(\"Enter a number:- \"));\n",
    "for num in range(1,n):\n",
    "    sumof =0;\n",
    "    temp = num\n",
    "    while(temp>0):\n",
    "        rem = temp%10;\n",
    "        sumof = sumof+(rem**3);\n",
    "        temp=int(temp/10);       \n",
    "    if num==sumof:\n",
    "        print(\"This is a Armstrong Number {}\".format(num));"
   ]
  },
  {
   "cell_type": "markdown",
   "id": "c66dece8",
   "metadata": {},
   "source": [
    "## 6. Write a Python Program to Find the Sum of Natural Numbers?"
   ]
  },
  {
   "cell_type": "code",
   "execution_count": 8,
   "id": "043e60b3",
   "metadata": {},
   "outputs": [
    {
     "name": "stdout",
     "output_type": "stream",
     "text": [
      "Enter a number :- 10\n",
      " Sum of Natural Numbers is 55\n"
     ]
    }
   ],
   "source": [
    "n=int(input(\"Enter a number :- \"));\n",
    "sumofnum = 0;\n",
    "for i  in range(1,n+1):\n",
    "    sumofnum=sumofnum+i;\n",
    "print(\" Sum of Natural Numbers is {}\".format(sumofnum));\n"
   ]
  },
  {
   "cell_type": "code",
   "execution_count": null,
   "id": "08b5b103",
   "metadata": {},
   "outputs": [],
   "source": []
  }
 ],
 "metadata": {
  "kernelspec": {
   "display_name": "Python 3 (ipykernel)",
   "language": "python",
   "name": "python3"
  },
  "language_info": {
   "codemirror_mode": {
    "name": "ipython",
    "version": 3
   },
   "file_extension": ".py",
   "mimetype": "text/x-python",
   "name": "python",
   "nbconvert_exporter": "python",
   "pygments_lexer": "ipython3",
   "version": "3.9.7"
  }
 },
 "nbformat": 4,
 "nbformat_minor": 5
}
