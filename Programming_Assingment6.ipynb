{
 "cells": [
  {
   "cell_type": "markdown",
   "id": "3f9b89fa",
   "metadata": {},
   "source": [
    "# Programming_Assingment5"
   ]
  },
  {
   "cell_type": "markdown",
   "id": "90927ece",
   "metadata": {},
   "source": [
    "## 1.\tWrite a Python Program to Display Fibonacci Sequence Using Recursion?"
   ]
  },
  {
   "cell_type": "code",
   "execution_count": 5,
   "id": "46a8689d",
   "metadata": {},
   "outputs": [
    {
     "name": "stdout",
     "output_type": "stream",
     "text": [
      "upto the number10\n",
      "Fibonacci sequence:\n",
      "0\n",
      "1\n",
      "1\n",
      "2\n",
      "3\n",
      "5\n",
      "8\n",
      "13\n",
      "21\n",
      "34\n"
     ]
    }
   ],
   "source": [
    "def rec_fib(n):\n",
    "    if n <= 1:\n",
    "        return n  \n",
    "    else:\n",
    "        return(rec_fib(n-1) + rec_fib(n-2))  \n",
    "n = int(input(\"upto the number\"))  \n",
    "if n <= 0:  \n",
    "    print(\"Plese enter a positive integer value\")  \n",
    "else:\n",
    "    print(\"Fibonacci sequence:\")  \n",
    "    for i in range(n):  \n",
    "        print(rec_fib(i)) "
   ]
  },
  {
   "cell_type": "markdown",
   "id": "3b196eb8",
   "metadata": {},
   "source": [
    "## 2.\tWrite a Python Program to Find Factorial of Number Using Recursion?"
   ]
  },
  {
   "cell_type": "code",
   "execution_count": null,
   "id": "86ce0603",
   "metadata": {},
   "outputs": [],
   "source": [
    "def fact(n):\n",
    "    if n == 1:\n",
    "        return n  \n",
    "    else:\n",
    "        return(n*fact(n-1))\n",
    "n = int(input(\"upto the number\"))  \n",
    "if n < 0:  \n",
    "    print(\"Plese enter a positive integer value\")\n",
    "elif n == 0:  \n",
    "    print(\"The factorial of 0 is 1\")\n",
    "else:\n",
    "    print(\"Factorial of number is:\")  \n",
    "    for i in range(n):  \n",
    "        print(fact(i)) "
   ]
  },
  {
   "cell_type": "markdown",
   "id": "f9de3f2f",
   "metadata": {},
   "source": [
    "## 3.\tWrite a Python Program to calculate your Body Mass Index?"
   ]
  },
  {
   "cell_type": "code",
   "execution_count": 4,
   "id": "f0a0bbd5",
   "metadata": {},
   "outputs": [
    {
     "name": "stdout",
     "output_type": "stream",
     "text": [
      "enter a Weight of body in kg:- 100\n",
      "enter a Height of body in m:- 1.65\n",
      "BMI of your bode is 36.73094582185492\n",
      "Extreamly obese\n"
     ]
    }
   ],
   "source": [
    "weight = float(input(\"enter a Weight of body in kg:- \"));\n",
    "height = float(input(\"enter a Height of body in m:- \"));\n",
    "BMI = weight/(height**2)\n",
    "print(\"BMI of your bode is\",BMI)\n",
    "if(BMI<18.5):\n",
    "    print(\"Underweight\")\n",
    "elif(BMI>18.5 and BMI<24.9):\n",
    "    print(\"Normal\")\n",
    "elif(BMI>25 and BMI<25.9):\n",
    "    print(\"Overweight\")\n",
    "elif(BMI>30 and BMI<34.9):\n",
    "    print(\"Obese\")\n",
    "else:\n",
    "    print(\"Extreamly obese\")"
   ]
  },
  {
   "cell_type": "markdown",
   "id": "ca5bf5df",
   "metadata": {},
   "source": [
    "## 4.\tWrite a Python Program to calculate the natural logarithm of any number?"
   ]
  },
  {
   "cell_type": "code",
   "execution_count": 5,
   "id": "4e3beb2b",
   "metadata": {},
   "outputs": [
    {
     "name": "stdout",
     "output_type": "stream",
     "text": [
      "enter a number5\n",
      "1.6094379124341003\n"
     ]
    }
   ],
   "source": [
    "import math\n",
    "n = int(input(\"enter a number\"));\n",
    "natloga = math.log(n)\n",
    "print(natloga);"
   ]
  },
  {
   "cell_type": "markdown",
   "id": "33878ec7",
   "metadata": {},
   "source": [
    "## 5.\tWrite a Python Program for cube sum of first n natural numbers?"
   ]
  },
  {
   "cell_type": "code",
   "execution_count": 6,
   "id": "5ca76721",
   "metadata": {},
   "outputs": [
    {
     "name": "stdout",
     "output_type": "stream",
     "text": [
      "enter n: 5\n",
      "sum of cubes of first 5 natural numbers:  225\n"
     ]
    }
   ],
   "source": [
    "def CubeofSum(n):\n",
    "    s=0\n",
    "    for i in range(n+1):\n",
    "        s+=i**3\n",
    "    return s\n",
    "n=int(input(\"enter n: \"))\n",
    "print(\"sum of cubes of first {} natural numbers: \".format(n),CubeofSum(n))"
   ]
  },
  {
   "cell_type": "code",
   "execution_count": null,
   "id": "691cf60c",
   "metadata": {},
   "outputs": [],
   "source": []
  }
 ],
 "metadata": {
  "kernelspec": {
   "display_name": "Python 3 (ipykernel)",
   "language": "python",
   "name": "python3"
  },
  "language_info": {
   "codemirror_mode": {
    "name": "ipython",
    "version": 3
   },
   "file_extension": ".py",
   "mimetype": "text/x-python",
   "name": "python",
   "nbconvert_exporter": "python",
   "pygments_lexer": "ipython3",
   "version": "3.9.7"
  }
 },
 "nbformat": 4,
 "nbformat_minor": 5
}
