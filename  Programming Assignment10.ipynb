{
 "cells": [
  {
   "cell_type": "markdown",
   "id": "1fe2ad3c",
   "metadata": {},
   "source": [
    "#  Programming Assignment10"
   ]
  },
  {
   "cell_type": "markdown",
   "id": "cb5e8037",
   "metadata": {},
   "source": [
    "# 1. Write a Python program to find sum of elements in list?"
   ]
  },
  {
   "cell_type": "code",
   "execution_count": null,
   "id": "671051a3",
   "metadata": {},
   "outputs": [],
   "source": [
    "l = []\n",
    "n= int(input(\"Size of list:- \"))\n",
    "for i in range(1,n+1):\n",
    "    val=int(input('enter a num in list index '+ str(i) +\" \"))\n",
    "    l.append(val)\n",
    "print(l)\n",
    "sumofele = 0\n",
    "for i in range(len(l)):\n",
    "    sumofele=sumofele+l[i]\n",
    "print(sumofele)"
   ]
  },
  {
   "cell_type": "markdown",
   "id": "38fa6c96",
   "metadata": {},
   "source": [
    "# 2. Write a Python program to Multiply all numbers in the list?"
   ]
  },
  {
   "cell_type": "code",
   "execution_count": null,
   "id": "9cee9c8f",
   "metadata": {},
   "outputs": [],
   "source": [
    "l = []\n",
    "n= int(input(\"Size of list:- \"))\n",
    "for i in range(1,n+1):\n",
    "    val=int(input('enter a num in list index '+ str(i) +\" \"))\n",
    "    l.append(val)\n",
    "print(l)\n",
    "sumofele = 1\n",
    "for i in range(len(l)):\n",
    "    sumofele=sumofele*l[i]\n",
    "print(sumofele)"
   ]
  },
  {
   "cell_type": "markdown",
   "id": "c569780c",
   "metadata": {},
   "source": [
    "# 3. Write a Python program to find smallest number in a list?"
   ]
  },
  {
   "cell_type": "code",
   "execution_count": 5,
   "id": "95a40d46",
   "metadata": {},
   "outputs": [
    {
     "name": "stdout",
     "output_type": "stream",
     "text": [
      "2\n"
     ]
    }
   ],
   "source": [
    "l = [12,35,2,15,16,42,12,4,65,45]\n",
    "smallest = min(l)\n",
    "print(smallest)"
   ]
  },
  {
   "cell_type": "markdown",
   "id": "b88b079d",
   "metadata": {},
   "source": [
    "# 4. Write a Python program to find largest number in a list?"
   ]
  },
  {
   "cell_type": "code",
   "execution_count": 3,
   "id": "4e234c12",
   "metadata": {},
   "outputs": [
    {
     "name": "stdout",
     "output_type": "stream",
     "text": [
      "79\n"
     ]
    }
   ],
   "source": [
    "l = [23,24,65,78,79,45,25]\n",
    "large = max(l)\n",
    "print(large)"
   ]
  },
  {
   "cell_type": "markdown",
   "id": "aafd0536",
   "metadata": {},
   "source": [
    "# 5. Write a Python program to find second largest number in a list?"
   ]
  },
  {
   "cell_type": "code",
   "execution_count": 6,
   "id": "241a95d0",
   "metadata": {},
   "outputs": [
    {
     "name": "stdout",
     "output_type": "stream",
     "text": [
      "Second latgest :  45\n"
     ]
    }
   ],
   "source": [
    "list1 = [12,25,35,45,84,12,45,32,15,16]\n",
    "list1.sort()\n",
    "print(\"Second latgest : \",list1[-2])"
   ]
  },
  {
   "cell_type": "markdown",
   "id": "f1a85e6a",
   "metadata": {},
   "source": [
    "# 6. Write a Python program to find N largest elements from a list?"
   ]
  },
  {
   "cell_type": "code",
   "execution_count": 5,
   "id": "2445d48a",
   "metadata": {},
   "outputs": [
    {
     "data": {
      "text/plain": [
       "[32, 32, 35, 52, 65]"
      ]
     },
     "execution_count": 5,
     "metadata": {},
     "output_type": "execute_result"
    }
   ],
   "source": [
    "l = []\n",
    "n= int(input(\"Size of list:- \"))\n",
    "for i in range(0,n):\n",
    "    val=int(input('enter a num in list index '+ str(i) +\" \"))\n",
    "    l.append(val)\n",
    "print(l)\n",
    "large = max(l)\n",
    "print(large)"
   ]
  },
  {
   "cell_type": "markdown",
   "id": "d27f0faf",
   "metadata": {},
   "source": [
    "# 7. Write a Python program to print even numbers in a list?"
   ]
  },
  {
   "cell_type": "code",
   "execution_count": 7,
   "id": "ee6e0cf6",
   "metadata": {},
   "outputs": [
    {
     "name": "stdout",
     "output_type": "stream",
     "text": [
      "12\n",
      "36\n",
      "16\n",
      "18\n",
      "20\n",
      "14\n",
      "26\n"
     ]
    }
   ],
   "source": [
    "l =[12,25,35,36,45,16,18,19,20,14,35,26,27]\n",
    "for i in range(len(l)):\n",
    "    if(l[i]%2==0):\n",
    "        print(l[i])"
   ]
  },
  {
   "cell_type": "markdown",
   "id": "30ad08b7",
   "metadata": {},
   "source": [
    "# 8. Write a Python program to print odd numbers in a List?"
   ]
  },
  {
   "cell_type": "code",
   "execution_count": 9,
   "id": "1ab3ca5e",
   "metadata": {},
   "outputs": [
    {
     "name": "stdout",
     "output_type": "stream",
     "text": [
      "25\n",
      "35\n",
      "45\n",
      "19\n",
      "35\n",
      "27\n"
     ]
    }
   ],
   "source": [
    "l =[12,25,35,36,45,16,18,19,20,14,35,26,27]\n",
    "for i in range(len(l)):\n",
    "    if(l[i]%2!=0):\n",
    "        print(l[i])"
   ]
  },
  {
   "cell_type": "markdown",
   "id": "0f0332a9",
   "metadata": {},
   "source": [
    "# 9. Write a Python program to Remove empty List from List?"
   ]
  },
  {
   "cell_type": "code",
   "execution_count": 23,
   "id": "766dc81e",
   "metadata": {},
   "outputs": [
    {
     "name": "stdout",
     "output_type": "stream",
     "text": [
      "12\n",
      "12\n",
      "32\n",
      "52\n",
      "62\n",
      "[15, 12, 16, 25]\n",
      "32\n",
      "65\n",
      "['amit', 'ineuron']\n",
      "453\n"
     ]
    }
   ],
   "source": [
    "list2=[12,[],12,32,52,62,[15,12,16,25],32,65,['amit','ineuron'],[],453]\n",
    "for i in list2:\n",
    "    if i!=[]:\n",
    "        print(i)"
   ]
  },
  {
   "cell_type": "markdown",
   "id": "ee6f19c8",
   "metadata": {},
   "source": [
    "# 10. Write a Python program to Cloning or Copying a list?\n"
   ]
  },
  {
   "cell_type": "code",
   "execution_count": 27,
   "id": "17c81a1a",
   "metadata": {},
   "outputs": [
    {
     "name": "stdout",
     "output_type": "stream",
     "text": [
      "List: [36, 208, 122, 110, 125, 198]\n",
      "After Cloning: [36, 208, 122, 110, 125, 198]\n"
     ]
    }
   ],
   "source": [
    "def Cloning(list1):\n",
    "    list_copy =[]\n",
    "    for i in list1:\n",
    "        list_copy.append(i)\n",
    "    return list_copy\n",
    "   \n",
    "list1 = [36, 208, 122, 110, 125, 198]\n",
    "list2 = Cloning(list1)\n",
    "print(\"List:\", list1)\n",
    "print(\"After Cloning:\", list2)"
   ]
  },
  {
   "cell_type": "markdown",
   "id": "83eb2c1b",
   "metadata": {},
   "source": [
    "# 11. Write a Python program to Count occurrences of an element in a list?"
   ]
  },
  {
   "cell_type": "code",
   "execution_count": 42,
   "id": "693efd0c",
   "metadata": {},
   "outputs": [
    {
     "name": "stdout",
     "output_type": "stream",
     "text": [
      "5 has occurred 4 times\n"
     ]
    }
   ],
   "source": [
    "def countoccur(list1, ele):\n",
    "    return list1.count(ele)\n",
    "list1 = [5, 6, 5, 20, 5, 20, 12, 5, 6]\n",
    "ele = 5\n",
    "print('{} has occurred {} times'.format(ele, countoccur(list1, ele)))"
   ]
  }
 ],
 "metadata": {
  "kernelspec": {
   "display_name": "Python 3 (ipykernel)",
   "language": "python",
   "name": "python3"
  },
  "language_info": {
   "codemirror_mode": {
    "name": "ipython",
    "version": 3
   },
   "file_extension": ".py",
   "mimetype": "text/x-python",
   "name": "python",
   "nbconvert_exporter": "python",
   "pygments_lexer": "ipython3",
   "version": "3.9.7"
  }
 },
 "nbformat": 4,
 "nbformat_minor": 5
}
